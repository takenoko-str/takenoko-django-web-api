{
 "cells": [
  {
   "cell_type": "code",
   "execution_count": 21,
   "metadata": {},
   "outputs": [],
   "source": [
    "import django\n",
    "django.setup()"
   ]
  },
  {
   "cell_type": "code",
   "execution_count": 22,
   "metadata": {},
   "outputs": [],
   "source": [
    "from film import models"
   ]
  },
  {
   "cell_type": "code",
   "execution_count": 23,
   "metadata": {},
   "outputs": [],
   "source": [
    "film = models.Film.objects.get(film_id=10)"
   ]
  },
  {
   "cell_type": "code",
   "execution_count": 24,
   "metadata": {},
   "outputs": [
    {
     "data": {
      "text/plain": [
       "10"
      ]
     },
     "execution_count": 24,
     "metadata": {},
     "output_type": "execute_result"
    }
   ],
   "source": [
    "film.film_id"
   ]
  },
  {
   "cell_type": "code",
   "execution_count": 25,
   "metadata": {},
   "outputs": [
    {
     "data": {
      "text/plain": [
       "'ALADDIN CALENDAR'"
      ]
     },
     "execution_count": 25,
     "metadata": {},
     "output_type": "execute_result"
    }
   ],
   "source": [
    "film.title"
   ]
  },
  {
   "cell_type": "code",
   "execution_count": 26,
   "metadata": {},
   "outputs": [],
   "source": [
    "films = models.Film.objects.all()[:3]"
   ]
  },
  {
   "cell_type": "code",
   "execution_count": 27,
   "metadata": {},
   "outputs": [
    {
     "data": {
      "text/plain": [
       "<QuerySet [<Film: Film object (1)>, <Film: Film object (2)>, <Film: Film object (3)>]>"
      ]
     },
     "execution_count": 27,
     "metadata": {},
     "output_type": "execute_result"
    }
   ],
   "source": [
    "films"
   ]
  },
  {
   "cell_type": "code",
   "execution_count": 28,
   "metadata": {},
   "outputs": [],
   "source": [
    "from django.forms.models import model_to_dict"
   ]
  },
  {
   "cell_type": "code",
   "execution_count": 29,
   "metadata": {},
   "outputs": [],
   "source": [
    "film_list = []\n",
    "for film in films:\n",
    "    film_list.append(model_to_dict(film))"
   ]
  },
  {
   "cell_type": "code",
   "execution_count": 30,
   "metadata": {},
   "outputs": [
    {
     "data": {
      "text/plain": [
       "[{'film_id': 1,\n",
       "  'title': 'ACADEMY DINOSAUR',\n",
       "  'description': 'A Epic Drama of a Feminist And a Mad Scientist who must Battle a Teacher in The Canadian Rockies',\n",
       "  'release_year': 2006,\n",
       "  'language': 1,\n",
       "  'length': 86,\n",
       "  'last_update': datetime.datetime(2006, 2, 15, 5, 3, 42, tzinfo=<UTC>)},\n",
       " {'film_id': 2,\n",
       "  'title': 'ACE GOLDFINGER',\n",
       "  'description': 'A Astounding Epistle of a Database Administrator And a Explorer who must Find a Car in Ancient China',\n",
       "  'release_year': 2006,\n",
       "  'language': 1,\n",
       "  'length': 48,\n",
       "  'last_update': datetime.datetime(2006, 2, 15, 5, 3, 42, tzinfo=<UTC>)},\n",
       " {'film_id': 3,\n",
       "  'title': 'ADAPTATION HOLES',\n",
       "  'description': 'A Astounding Reflection of a Lumberjack And a Car who must Sink a Lumberjack in A Baloon Factory',\n",
       "  'release_year': 2006,\n",
       "  'language': 1,\n",
       "  'length': 50,\n",
       "  'last_update': datetime.datetime(2006, 2, 15, 5, 3, 42, tzinfo=<UTC>)}]"
      ]
     },
     "execution_count": 30,
     "metadata": {},
     "output_type": "execute_result"
    }
   ],
   "source": [
    "film_list"
   ]
  }
 ],
 "metadata": {
  "kernelspec": {
   "display_name": "Python 3",
   "language": "python",
   "name": "python3"
  },
  "language_info": {
   "codemirror_mode": {
    "name": "ipython",
    "version": 3
   },
   "file_extension": ".py",
   "mimetype": "text/x-python",
   "name": "python",
   "nbconvert_exporter": "python",
   "pygments_lexer": "ipython3",
   "version": "3.6.5"
  }
 },
 "nbformat": 4,
 "nbformat_minor": 2
}
